{
 "cells": [
  {
   "cell_type": "code",
   "execution_count": 208,
   "metadata": {},
   "outputs": [],
   "source": [
    "text = open(\"map.svg\", \"r\").read()\n",
    "\n",
    "###\n",
    "\n",
    "circle_filter = lambda x: str.startswith(x, \"<circle\")\n",
    "def map_obj(x):\n",
    "    obj = { \"text\": x }\n",
    "    cx, cy = False, False\n",
    "    for i in x.split(\"\\\"\"):\n",
    "        i = i.strip()\n",
    "        if cx:\n",
    "            obj[\"cx\"] = float(i)\n",
    "            cx = False\n",
    "        if cy:\n",
    "            obj[\"cy\"] = float(i)\n",
    "            cy = False\n",
    "        if i == \"cx=\":\n",
    "            cx = True\n",
    "        if i == \"cy=\":\n",
    "            cy = True\n",
    "    return obj\n",
    "\n",
    "texts = text.splitlines()\n",
    "\n",
    "f = filter(circle_filter, texts)\n",
    "f = [*map(map_obj, f)]\n",
    "\n",
    "###\n",
    "\n",
    "def sort_key(v):\n",
    "    return v[\"cx\"] * 100000 + v[\"cy\"]\n",
    "\n",
    "f.sort(key=sort_key)\n",
    "\n",
    "###\n",
    "\n",
    "def add_name(n, name):\n",
    "    sp = f[n][\"text\"].split(\"\\\"\")\n",
    "    if \"data-station-name\" not in f[n][\"text\"]:\n",
    "        f[n][\"text\"] = \"\\\"\".join(sp[:2] + [\"\"]) + f\" data-station-name=\\\"{name}\\\"\" + \"\\\"\".join(sp[2:])\n",
    "    else:\n",
    "        f[n][\"text\"] = \"\\\"\".join(sp[:3] + [name] + sp[4:])\n",
    "\n",
    "###\n",
    "\n",
    "def find_id(x, y):\n",
    "    res = [*filter(lambda v: v[1][\"cx\"] == x and v[1][\"cy\"] == y, enumerate(f))]\n",
    "    if res:\n",
    "        return res[0][0]\n",
    "    else:\n",
    "        return None\n",
    "\n",
    "###\n",
    "\n",
    "def go(x, y, name):\n",
    "    i = find_id(x, y)\n",
    "    if i is not None:\n",
    "        add_name(i, name)\n",
    "    else:\n",
    "        print(\"wtf\")"
   ]
  },
  {
   "cell_type": "code",
   "execution_count": 229,
   "metadata": {},
   "outputs": [],
   "source": [
    "go(\n",
    "    966.5,\n",
    "    556.5,\n",
    "    \"구의\"\n",
    ")"
   ]
  },
  {
   "cell_type": "code",
   "execution_count": 230,
   "metadata": {},
   "outputs": [
    {
     "data": {
      "text/plain": [
       "219988"
      ]
     },
     "execution_count": 230,
     "metadata": {},
     "output_type": "execute_result"
    }
   ],
   "source": [
    "nt = [*filter(lambda x: not circle_filter(x), texts)]\n",
    "\n",
    "###\n",
    "\n",
    "n_split = 1232\n",
    "agg = \"\\n\".join([\"\\n\".join(nt[:n_split]), \"\\n\".join(map(lambda x: x[\"text\"], f)), \"\\n\".join(nt[n_split:])])\n",
    "\n",
    "###\n",
    "\n",
    "open(\"res.txt\", \"w\").write(agg)"
   ]
  }
 ],
 "metadata": {
  "kernelspec": {
   "display_name": "pt",
   "language": "python",
   "name": "pt"
  },
  "language_info": {
   "codemirror_mode": {
    "name": "ipython",
    "version": 3
   },
   "file_extension": ".py",
   "mimetype": "text/x-python",
   "name": "python",
   "nbconvert_exporter": "python",
   "pygments_lexer": "ipython3",
   "version": "3.11.5"
  }
 },
 "nbformat": 4,
 "nbformat_minor": 2
}
